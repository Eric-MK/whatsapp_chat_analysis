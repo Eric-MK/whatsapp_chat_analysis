{
 "cells": [
  {
   "cell_type": "code",
   "execution_count": 1,
   "metadata": {},
   "outputs": [],
   "source": [
    "# Import pandas for data manipulation and analysis\n",
    "import pandas as pd\n",
    "\n",
    "# Import regular expressions for string manipulation\n",
    "import re\n",
    "\n",
    "# Import Counter from collections for counting occurrences\n",
    "from collections import Counter\n",
    "\n",
    "# Import matplotlib.pyplot for data visualization\n",
    "import matplotlib.pyplot as plt\n",
    "\n",
    "# Import seaborn for advanced statistical data visualization\n",
    "import seaborn as sns"
   ]
  },
  {
   "cell_type": "code",
   "execution_count": 3,
   "metadata": {},
   "outputs": [],
   "source": [
    "# Load the chat file\n",
    "with open('data/_chat.txt', encoding='utf-8') as file:\n",
    "    lines = file.readlines()"
   ]
  }
 ],
 "metadata": {
  "kernelspec": {
   "display_name": "notebook_env",
   "language": "python",
   "name": "python3"
  },
  "language_info": {
   "codemirror_mode": {
    "name": "ipython",
    "version": 3
   },
   "file_extension": ".py",
   "mimetype": "text/x-python",
   "name": "python",
   "nbconvert_exporter": "python",
   "pygments_lexer": "ipython3",
   "version": "3.11.5"
  }
 },
 "nbformat": 4,
 "nbformat_minor": 2
}
