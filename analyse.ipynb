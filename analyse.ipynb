{
 "cells": [
  {
   "cell_type": "code",
   "execution_count": 74,
   "metadata": {},
   "outputs": [],
   "source": [
    "# Import pandas for data manipulation and analysis\n",
    "import pandas as pd\n",
    "\n",
    "# Import regular expressions for string manipulation\n",
    "import re\n",
    "\n",
    "# Import Counter from collections for counting occurrences\n",
    "from collections import Counter\n",
    "\n",
    "# Import matplotlib.pyplot for data visualization\n",
    "import matplotlib.pyplot as plt\n",
    "\n",
    "# Import seaborn for advanced statistical data visualization\n",
    "import seaborn as sns\n",
    "\n",
    "from datetime import datetime\n"
   ]
  },
  {
   "cell_type": "code",
   "execution_count": 75,
   "metadata": {},
   "outputs": [],
   "source": [
    "# Load the chat file\n"
   ]
  },
  {
   "cell_type": "code",
   "execution_count": 78,
   "metadata": {},
   "outputs": [
    {
     "name": "stdout",
     "output_type": "stream",
     "text": [
      "Total Messages: 4388\n",
      "Total Media: 0\n",
      "Total Members: 25\n"
     ]
    }
   ],
   "source": [
    "import pandas as pd\n",
    "from datetime import datetime\n",
    "import re\n",
    "\n",
    "# Define a function to parse each line of the chat log\n",
    "def parse_line(line):\n",
    "    # Try to match lines with the standard message format\n",
    "    match = re.match(r'^\\[(\\d{2}/\\d{2}/\\d{4}), (\\d{2}:\\d{2}:\\d{2})\\] ([^:]+): (.+)$', line)\n",
    "    if match:\n",
    "        # Extract components from the matched pattern\n",
    "        date_str, time_str, author, message = match.groups()\n",
    "        datetime_str = f\"{date_str}, {time_str}\"\n",
    "        datetime_obj = datetime.strptime(datetime_str, '%d/%m/%Y, %H:%M:%S')\n",
    "        return {'DateTime': datetime_obj, 'Author': author, 'Message': message}\n",
    "    return None\n",
    "\n",
    "# Load the chat file\n",
    "with open('data/_chat.txt', encoding='utf-8') as file:\n",
    "    lines = file.readlines()\n",
    "\n",
    "# Parse all lines in the chat log\n",
    "parsed_lines = [parse_line(line) for line in lines if line.strip()]\n",
    "# Filter out None values\n",
    "parsed_lines = [line for line in parsed_lines if line]\n",
    "\n",
    "# Convert the list of dictionaries into a DataFrame\n",
    "df = pd.DataFrame(parsed_lines)\n",
    "\n",
    "# Count total messages\n",
    "total_messages = len(df)\n",
    "\n",
    "# Identify and count media messages by checking for specific keywords\n",
    "media_keywords = ['image omitted', 'video omitted', 'sticker omitted', 'GIF omitted', 'audio omitted', 'document omitted']\n",
    "df['IsMedia'] = df['Message'].apply(lambda x: any(keyword in x for keyword in media_keywords))\n",
    "total_media = df['IsMedia'].sum()\n",
    "\n",
    "# Assuming each unique author represents a member, count total members\n",
    "total_members = df['Author'].nunique()\n",
    "\n",
    "print(f\"Total Messages: {total_messages}\")\n",
    "print(f\"Total Media: {total_media}\")\n",
    "print(f\"Total Members: {total_members}\")\n"
   ]
  },
  {
   "cell_type": "markdown",
   "metadata": {},
   "source": [
    "#### Total Messages, Media, and Members"
   ]
  },
  {
   "cell_type": "code",
   "execution_count": 77,
   "metadata": {},
   "outputs": [
    {
     "name": "stdout",
     "output_type": "stream",
     "text": [
      "Total Messages: 4388\n",
      "Total Media: 0\n",
      "Total Members: 25\n"
     ]
    }
   ],
   "source": [
    "total_messages = len(df)\n",
    "print(f\"Total Messages: {total_messages}\")\n",
    "\n",
    "# Count all media messages assuming they contain the word \"omitted\"\n",
    "total_media = df['Message'].str.contains('omitted', case=False, na=False).sum()\n",
    "print(f\"Total Media: {total_media}\")\n",
    "\n",
    "\n",
    "total_members = df['Author'].nunique()\n",
    "print(f\"Total Members: {total_members}\") # those who have sent atleast once\n",
    "\n",
    "\n"
   ]
  }
 ],
 "metadata": {
  "kernelspec": {
   "display_name": "notebook_env",
   "language": "python",
   "name": "python3"
  },
  "language_info": {
   "codemirror_mode": {
    "name": "ipython",
    "version": 3
   },
   "file_extension": ".py",
   "mimetype": "text/x-python",
   "name": "python",
   "nbconvert_exporter": "python",
   "pygments_lexer": "ipython3",
   "version": "3.11.5"
  }
 },
 "nbformat": 4,
 "nbformat_minor": 2
}
