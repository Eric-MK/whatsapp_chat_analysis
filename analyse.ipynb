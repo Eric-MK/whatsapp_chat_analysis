{
 "cells": [
  {
   "cell_type": "code",
   "execution_count": 1,
   "metadata": {},
   "outputs": [],
   "source": [
    "# Import pandas for data manipulation and analysis\n",
    "import pandas as pd\n",
    "\n",
    "# Import regular expressions for string manipulation\n",
    "import re\n",
    "\n",
    "# Import Counter from collections for counting occurrences\n",
    "from collections import Counter\n",
    "\n",
    "# Import matplotlib.pyplot for data visualization\n",
    "import matplotlib.pyplot as plt\n",
    "\n",
    "# Import seaborn for advanced statistical data visualization\n",
    "import seaborn as sns"
   ]
  },
  {
   "cell_type": "code",
   "execution_count": 3,
   "metadata": {},
   "outputs": [],
   "source": [
    "# Load the chat file\n",
    "with open('data/_chat.txt', encoding='utf-8') as file:\n",
    "    lines = file.readlines()"
   ]
  },
  {
   "cell_type": "code",
   "execution_count": 10,
   "metadata": {},
   "outputs": [
    {
     "name": "stdout",
     "output_type": "stream",
     "text": [
      "               Author                                            Message  \\\n",
      "0  RMS DIGITAL REVAMP  ‎Messages and calls are end-to-end encrypted. ...   \n",
      "1       Carol Wanyama                  ‎Carol Wanyama created this group   \n",
      "2  RMS DIGITAL REVAMP                           ‎Carol Wanyama added you   \n",
      "3       Carol Wanyama                           Birthday Cake Loading🥳🥳🥳   \n",
      "4      Wachira Waruru            Looks great,  when will it be consumed?   \n",
      "\n",
      "             Datetime  \n",
      "0 2020-11-18 21:47:16  \n",
      "1 2020-11-18 21:47:16  \n",
      "2 2022-10-19 14:00:38  \n",
      "3 2022-10-19 14:04:26  \n",
      "4 2022-10-19 14:05:24  \n"
     ]
    }
   ],
   "source": [
    "# Define a pattern to recognize each line of the chat\n",
    "line_pattern = re.compile(r'\\[(\\d{2}/\\d{2}/\\d{4}), (\\d{2}:\\d{2}:\\d{2})] ([^:]+): (.*)')\n",
    "\n",
    "# Parse the lines\n",
    "data = []\n",
    "for line in lines:\n",
    "    match = line_pattern.match(line)\n",
    "    if match:\n",
    "        date = match.group(1)\n",
    "        time = match.group(2)\n",
    "        author = match.group(3)\n",
    "        message = match.group(4)\n",
    "        data.append([date, time, author, message])\n",
    "\n",
    "# Create a DataFrame\n",
    "df = pd.DataFrame(data, columns=['Date', 'Time', 'Author', 'Message'])\n",
    "\n",
    "# Combine Date and Time into a single datetime column and convert to datetime object\n",
    "df['Datetime'] = pd.to_datetime(df['Date'] + ' ' + df['Time'], format='%d/%m/%Y %H:%M:%S')\n",
    "df.drop(['Date', 'Time'], axis=1, inplace=True)  # Drop separate Date and Time columns if not needed\n",
    "\n",
    "# Display the first few rows to verify\n",
    "print(df.head())\n",
    "\n"
   ]
  }
 ],
 "metadata": {
  "kernelspec": {
   "display_name": "notebook_env",
   "language": "python",
   "name": "python3"
  },
  "language_info": {
   "codemirror_mode": {
    "name": "ipython",
    "version": 3
   },
   "file_extension": ".py",
   "mimetype": "text/x-python",
   "name": "python",
   "nbconvert_exporter": "python",
   "pygments_lexer": "ipython3",
   "version": "3.11.5"
  }
 },
 "nbformat": 4,
 "nbformat_minor": 2
}
